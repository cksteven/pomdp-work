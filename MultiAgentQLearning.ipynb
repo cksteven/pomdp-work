{
 "cells": [
  {
   "cell_type": "code",
   "execution_count": 1,
   "metadata": {},
   "outputs": [],
   "source": [
    "%load_ext autoreload\n",
    "%autoreload 2"
   ]
  },
  {
   "cell_type": "code",
   "execution_count": 5,
   "metadata": {},
   "outputs": [],
   "source": [
    "import matplotlib.pyplot as plt\n",
    "from msdm.domains.gridgame.tabulargridgame import TabularGridGame\n",
    "from msdm.domains.gridworld.mdp import GridWorld\n",
    "from msdm.algorithms.multiagentqlearning import TabularMultiAgentQLearner\n",
    "from msdm.algorithms.friendfoeq import FriendFoeQ\n",
    "from msdm.algorithms.correlatedq import CorrelatedQLearner\n",
    "from msdm.algorithms.nashq import NashQLearner\n",
    "from msdm.core.problemclasses.stochasticgame.policy.tabularpolicy import SingleAgentPolicy\n",
    "from msdm.core.assignment.assignmentmap import AssignmentMap\n",
    "import msdm\n",
    "import numpy as np\n",
    "import importlib\n",
    "import itertools\n",
    "import IPython.display as display"
   ]
  },
  {
   "cell_type": "code",
   "execution_count": 6,
   "metadata": {},
   "outputs": [
    {
     "name": "stdout",
     "output_type": "stream",
     "text": [
      "State list generated\n"
     ]
    }
   ],
   "source": [
    "three_player_gamestring = \"\"\"\n",
    "# # # # # # # \n",
    "# A1 . A2 . A0 #\n",
    "# . . . . . # \n",
    "# G1 . G2 . G0 #\n",
    "# # # # # # #  \n",
    "\"\"\".strip()\n",
    "\n",
    "two_player = \"\"\"\n",
    "# # # # #\n",
    "# . G . # \n",
    "# . . . #\n",
    "# A0.~ . A1.~ #\n",
    "# # # # #\n",
    "\"\"\"\n",
    "# gg = TabularGridGame(three_player_gamestring,agent_symbols=(\"A0\",\"A1\",\"A2\"),goal_symbols=(\n",
    "#                      (\"G0\", (\"A0\", )),\n",
    "#                      (\"G1\", (\"A1\", )),\n",
    "#                      (\"G2\",(\"A2\", )),\n",
    "#                      (\"G\", (\"A0\", \"A1\"))),)\n",
    "gg = TabularGridGame(two_player,agent_symbols=(\"A0\",\"A1\"),goal_symbols=((\"G\",(\"A0\",\"A1\")),),step_cost=0,collision_cost=-1,goal_reward=100)\n",
    "gg.state_list\n",
    "print(\"State list generated\")"
   ]
  },
  {
   "cell_type": "code",
   "execution_count": 8,
   "metadata": {},
   "outputs": [
    {
     "data": {
      "text/plain": [
       "<msdm.domains.gridgame.plotting.GridGamePlotter at 0x16baaf7f0>"
      ]
     },
     "execution_count": 8,
     "metadata": {},
     "output_type": "execute_result"
    },
    {
     "data": {
      "image/png": "[encoded data removed]",
      "text/plain": [
       "<Figure size 360x360 with 1 Axes>"
      ]
     },
     "metadata": {
      "needs_background": "light"
     },
     "output_type": "display_data"
    }
   ],
   "source": [
    "gg.plot() # ~ is a fence above"
   ]
  },
  {
   "cell_type": "code",
   "execution_count": 9,
   "metadata": {},
   "outputs": [],
   "source": [
    "random_policy = AssignmentMap()\n",
    "for state in gg.state_list:\n",
    "    actions = list(gg.joint_actions(state)[\"A1\"])\n",
    "    random_policy[state] = AssignmentMap()\n",
    "    for action in actions:\n",
    "        random_policy[state][action] = 1.0/len(actions)\n",
    "random_policy = SingleAgentPolicy(\"A1\",gg,random_policy)"
   ]
  },
  {
   "cell_type": "code",
   "execution_count": 14,
   "metadata": {},
   "outputs": [
    {
     "data": {
      "text/plain": [
       "74"
      ]
     },
     "execution_count": 14,
     "metadata": {},
     "output_type": "execute_result"
    }
   ],
   "source": [
    "len(gg.state_list)\n",
    "random_policy.policy_matrix.shape"
   ]
  },
  {
   "cell_type": "code",
   "execution_count": 15,
   "metadata": {},
   "outputs": [
    {
     "data": {
      "text/plain": [
       "array([0.2, 0.2, 0.2, 0.2, 0.2])"
      ]
     },
     "execution_count": 15,
     "metadata": {},
     "output_type": "execute_result"
    }
   ],
   "source": [
    "random_policy.policy_matrix[0] # policy_matrix is |S| x |A|"
   ]
  },
  {
   "cell_type": "code",
   "execution_count": 24,
   "metadata": {},
   "outputs": [
    {
     "data": {
      "text/plain": [
       "DiscreteFactorTable({{'x': 0, 'y': 0}: -1.61, {'x': 1, 'y': 0}: -1.61, {'x': -1, 'y': 0}: -1.61, {'x': 0, 'y': 1}: -1.61, {'x': 0, 'y': -1}: -1.61})"
      ]
     },
     "execution_count": 24,
     "metadata": {},
     "output_type": "execute_result"
    }
   ],
   "source": [
    "random_policy.action_dist(gg.state_list[0]) # action_dist is |S| x |A|\n",
    "# five acitons here for each state, up, down, left, right, stay"
   ]
  },
  {
   "cell_type": "code",
   "execution_count": 45,
   "metadata": {},
   "outputs": [],
   "source": [
    "all_agents = [\"A0\",\"A1\"]\n",
    "learning_agents = [\"A0\",\"A1\"]\n",
    "friends = {\"A1\":[],\"A0\":[]}\n",
    "foes = {\"A1\":[\"A0\"],\"A0\":[\"A1\"]}\n",
    "# other_policies = {\"A0\":random_policy}\n",
    "other_policies = {}\n",
    "params = {\"num_episodes\":5000,\"epsilon\":.01,\"epsilon_decay\":1.0,\"discount_rate\":.99,\n",
    "          \"learning_rate\":0.01,\"show_progress\":True,\"render\":False,\"render_from\":0,\"default_q_value\":1.0,\n",
    "          }"
   ]
  },
  {
   "cell_type": "code",
   "execution_count": 46,
   "metadata": {},
   "outputs": [],
   "source": [
    "q_learner = TabularMultiAgentQLearner(learning_agents,other_policies,all_actions=True,alg_name=\"Q-Learning\",**params)\n",
    "ffq_learner = FriendFoeQ(learning_agents,friends,foes,other_policies,alg_name=\"FFQ-Learning\",**params)\n",
    "libertarian_q_learner = CorrelatedQLearner(learning_agents,other_policies,objective_func=\"Libertarian\",alg_name=\"Libertarian CEQ\",**params)\n",
    "# utilitarian_q_learner = CorrelatedQLearner(learning_agents,other_policies,objective_func=\"Utilitarian\",alg_name=\"Utilitarian CEQ\",**params)\n",
    "# republican_q_learner = CorrelatedQLearner(learning_agents,other_policies,objective_func=\"Republican\",alg_name=\"Republican CEQ\",**params)\n",
    "# egalitarian_q_learner = CorrelatedQLearner(learning_agents,other_policies,objective_func=\"Egalitarian\",alg_name=\"Egalitarian CEQ\",**params)\n",
    "# nash_q_learner = NashQLearner(learning_agents,other_policies,alg_name=\"Nash-Q Learning\",**params)\n",
    "# algorithms = [q_learner,ffq_learner,utilitarian_q_learner,republican_q_learner,egalitarian_q_learner,libertarian_q_learner,nash_q_learner]\n",
    "# algorithms = [q_learner,ffq_learner,utilitarian_q_learner,republican_q_learner,egalitarian_q_learner,libertarian_q_learner]\n",
    "# algorithms = [ffq_learner]\n",
    "algorithms = [q_learner,ffq_learner,libertarian_q_learner] # working for now"
   ]
  },
  {
   "cell_type": "markdown",
   "metadata": {},
   "source": [
    "Error message for nash_q_learner\n",
    "\n",
    "```text\n",
    "---------------------------------------------------------------------------\n",
    "ValueError                                Traceback (most recent call last)\n",
    "/Users/kesong/Documents/git-personal/pomdp-work/MultiAgentQLearning.ipynb Cell 11 in <cell line: 3>()\n",
    "      2 example_trajectories = []\n",
    "      3 for alg in algorithms:\n",
    "----> 4     res = alg.plan_on(gg, delta=10) # KC change\n",
    "      5     results.append(res)\n",
    "      6     trajectory = res.pi.run_on(gg,maxSteps=10)\n",
    "\n",
    "File ~/miniconda3/envs/msdm/lib/python3.9/site-packages/msdm/algorithms/multiagentqlearning.py:214, in TabularMultiAgentQLearner.plan_on(self, problem, delta)\n",
    "    212     rewards = problem.joint_rewards(state,action,next_state)\n",
    "    213     for agent in self.learning_agents:\n",
    "--> 214         new_q = self.update(agent,action,res.Q,rewards,state,next_state,problem)\n",
    "    215         next_vals[agent] += prob*new_q\n",
    "    216 for agent in self.learning_agents:\n",
    "\n",
    "File ~/miniconda3/envs/msdm/lib/python3.9/site-packages/msdm/algorithms/nashq.py:51, in NashQLearner.update(self, agent_name, actions, q_values, joint_rewards, curr_state, next_state, problem)\n",
    "     49     warnings.simplefilter(\"ignore\")\n",
    "     50     eqs = list(game.support_enumeration())\n",
    "---> 51 rand_eq = np.random.choice(len(eqs))\n",
    "     52 rand_eq = eqs[rand_eq]\n",
    "     53 q_val_updates = AssignmentMap()\n",
    "\n",
    "File mtrand.pyx:909, in numpy.random.mtrand.RandomState.choice()\n",
    "\n",
    "ValueError: a must be greater than 0 unless no samples are taken\n",
    "```"
   ]
  },
  {
   "cell_type": "code",
   "execution_count": 47,
   "metadata": {},
   "outputs": [
    {
     "name": "stderr",
     "output_type": "stream",
     "text": [
      "100%|██████████| 74/74 [00:00<00:00, 157.61it/s]\n"
     ]
    },
    {
     "name": "stdout",
     "output_type": "stream",
     "text": [
      "{'A0': 99.98998990090003, 'A1': 99.9899899009}\n"
     ]
    },
    {
     "name": "stderr",
     "output_type": "stream",
     "text": [
      "100%|██████████| 74/74 [00:00<00:00, 161.45it/s]\n"
     ]
    },
    {
     "name": "stdout",
     "output_type": "stream",
     "text": [
      "{'A0': 98.99009000189103, 'A1': 98.9900900018909}\n"
     ]
    },
    {
     "name": "stderr",
     "output_type": "stream",
     "text": [
      "100%|██████████| 74/74 [00:00<00:00, 166.63it/s]\n"
     ]
    },
    {
     "name": "stdout",
     "output_type": "stream",
     "text": [
      "{'A0': 98.00017920374523, 'A1': 98.00017920374508}\n"
     ]
    },
    {
     "name": "stderr",
     "output_type": "stream",
     "text": [
      "100%|██████████| 74/74 [00:00<00:00, 167.01it/s]\n"
     ]
    },
    {
     "name": "stdout",
     "output_type": "stream",
     "text": [
      "{'A0': 97.02016761256311, 'A1': 0.9702795941170308}\n"
     ]
    },
    {
     "name": "stderr",
     "output_type": "stream",
     "text": [
      "100%|██████████| 74/74 [00:00<00:00, 167.93it/s]\n"
     ]
    },
    {
     "name": "stdout",
     "output_type": "stream",
     "text": [
      "{'A0': 23.535082450139186, 'A1': 0.9605671924078933}\n"
     ]
    },
    {
     "name": "stderr",
     "output_type": "stream",
     "text": [
      "100%|██████████| 74/74 [00:00<00:00, 166.78it/s]\n"
     ]
    },
    {
     "name": "stdout",
     "output_type": "stream",
     "text": [
      "{'A0': 0.4754902697852543, 'A1': 0.4754925875672029}\n",
      "Planning for Q-Learning Complete\n"
     ]
    },
    {
     "name": "stderr",
     "output_type": "stream",
     "text": [
      "100%|██████████| 74/74 [00:11<00:00,  6.22it/s]\n"
     ]
    },
    {
     "name": "stdout",
     "output_type": "stream",
     "text": [
      "{'A0': 98.99900000719309, 'A1': 98.99900000718966}\n"
     ]
    },
    {
     "name": "stderr",
     "output_type": "stream",
     "text": [
      "100%|██████████| 74/74 [00:12<00:00,  6.07it/s]\n"
     ]
    },
    {
     "name": "stdout",
     "output_type": "stream",
     "text": [
      "{'A0': 4.6373849177202254e-07, 'A1': 3.1407328527843673e-06}\n",
      "Planning for FFQ-Learning Complete\n"
     ]
    },
    {
     "name": "stderr",
     "output_type": "stream",
     "text": [
      "100%|██████████| 74/74 [00:19<00:00,  3.74it/s]\n"
     ]
    },
    {
     "name": "stdout",
     "output_type": "stream",
     "text": [
      "{'A0': 99.98998990195757, 'A1': 99.98998990094972}\n"
     ]
    },
    {
     "name": "stderr",
     "output_type": "stream",
     "text": [
      "100%|██████████| 74/74 [00:21<00:00,  3.37it/s]\n"
     ]
    },
    {
     "name": "stdout",
     "output_type": "stream",
     "text": [
      "{'A0': 98.99009077229769, 'A1': 98.99009063288479}\n"
     ]
    },
    {
     "name": "stderr",
     "output_type": "stream",
     "text": [
      "100%|██████████| 74/74 [00:22<00:00,  3.32it/s]\n"
     ]
    },
    {
     "name": "stdout",
     "output_type": "stream",
     "text": [
      "{'A0': 98.00016984186034, 'A1': 97.99968506311637}\n"
     ]
    },
    {
     "name": "stderr",
     "output_type": "stream",
     "text": [
      "100%|██████████| 74/74 [00:21<00:00,  3.38it/s]\n"
     ]
    },
    {
     "name": "stdout",
     "output_type": "stream",
     "text": [
      "{'A0': 84.27842737861782, 'A1': 48.018097401294106}\n"
     ]
    },
    {
     "name": "stderr",
     "output_type": "stream",
     "text": [
      "100%|██████████| 74/74 [00:22<00:00,  3.33it/s]\n"
     ]
    },
    {
     "name": "stdout",
     "output_type": "stream",
     "text": [
      "{'A0': 64.75742942252066, 'A1': 16.906093494725894}\n"
     ]
    },
    {
     "name": "stderr",
     "output_type": "stream",
     "text": [
      "100%|██████████| 74/74 [00:22<00:00,  3.25it/s]\n"
     ]
    },
    {
     "name": "stdout",
     "output_type": "stream",
     "text": [
      "{'A0': 63.11023482052439, 'A1': 17.877605206527548}\n"
     ]
    },
    {
     "name": "stderr",
     "output_type": "stream",
     "text": [
      "100%|██████████| 74/74 [00:22<00:00,  3.26it/s]\n"
     ]
    },
    {
     "name": "stdout",
     "output_type": "stream",
     "text": [
      "{'A0': 74.53573729624026, 'A1': 63.436091406100495}\n"
     ]
    },
    {
     "name": "stderr",
     "output_type": "stream",
     "text": [
      "100%|██████████| 74/74 [00:22<00:00,  3.32it/s]\n"
     ]
    },
    {
     "name": "stdout",
     "output_type": "stream",
     "text": [
      "{'A0': 66.84761817794525, 'A1': 62.88426991861783}\n"
     ]
    },
    {
     "name": "stderr",
     "output_type": "stream",
     "text": [
      "100%|██████████| 74/74 [00:21<00:00,  3.40it/s]\n"
     ]
    },
    {
     "name": "stdout",
     "output_type": "stream",
     "text": [
      "{'A0': 67.32634608581144, 'A1': 77.6498165674323}\n"
     ]
    },
    {
     "name": "stderr",
     "output_type": "stream",
     "text": [
      "100%|██████████| 74/74 [00:23<00:00,  3.21it/s]\n"
     ]
    },
    {
     "name": "stdout",
     "output_type": "stream",
     "text": [
      "{'A0': 54.6748694905394, 'A1': 74.49276677425256}\n"
     ]
    },
    {
     "name": "stderr",
     "output_type": "stream",
     "text": [
      "100%|██████████| 74/74 [00:22<00:00,  3.34it/s]\n"
     ]
    },
    {
     "name": "stdout",
     "output_type": "stream",
     "text": [
      "{'A0': 47.19373430393031, 'A1': 75.56408473736026}\n"
     ]
    },
    {
     "name": "stderr",
     "output_type": "stream",
     "text": [
      "100%|██████████| 74/74 [00:22<00:00,  3.35it/s]\n"
     ]
    },
    {
     "name": "stdout",
     "output_type": "stream",
     "text": [
      "{'A0': 39.75867845953631, 'A1': 63.05220035382046}\n"
     ]
    },
    {
     "name": "stderr",
     "output_type": "stream",
     "text": [
      "100%|██████████| 74/74 [00:21<00:00,  3.38it/s]\n"
     ]
    },
    {
     "name": "stdout",
     "output_type": "stream",
     "text": [
      "{'A0': 25.522465165146812, 'A1': 68.99851356112549}\n"
     ]
    },
    {
     "name": "stderr",
     "output_type": "stream",
     "text": [
      "100%|██████████| 74/74 [00:21<00:00,  3.43it/s]\n"
     ]
    },
    {
     "name": "stdout",
     "output_type": "stream",
     "text": [
      "{'A0': 18.146475256637444, 'A1': 32.14533117911046}\n"
     ]
    },
    {
     "name": "stderr",
     "output_type": "stream",
     "text": [
      "100%|██████████| 74/74 [00:21<00:00,  3.42it/s]\n"
     ]
    },
    {
     "name": "stdout",
     "output_type": "stream",
     "text": [
      "{'A0': 28.35047964278125, 'A1': 28.537700988501}\n"
     ]
    },
    {
     "name": "stderr",
     "output_type": "stream",
     "text": [
      "100%|██████████| 74/74 [00:21<00:00,  3.43it/s]\n"
     ]
    },
    {
     "name": "stdout",
     "output_type": "stream",
     "text": [
      "{'A0': 20.098269336370066, 'A1': 10.07403256678839}\n"
     ]
    },
    {
     "name": "stderr",
     "output_type": "stream",
     "text": [
      "100%|██████████| 74/74 [00:21<00:00,  3.42it/s]\n"
     ]
    },
    {
     "name": "stdout",
     "output_type": "stream",
     "text": [
      "{'A0': 10.497669880575437, 'A1': 10.7311068304368}\n"
     ]
    },
    {
     "name": "stderr",
     "output_type": "stream",
     "text": [
      "100%|██████████| 74/74 [00:21<00:00,  3.43it/s]\n"
     ]
    },
    {
     "name": "stdout",
     "output_type": "stream",
     "text": [
      "{'A0': 38.53623189062783, 'A1': 9.297714816645055}\n"
     ]
    },
    {
     "name": "stderr",
     "output_type": "stream",
     "text": [
      "100%|██████████| 74/74 [00:21<00:00,  3.44it/s]\n"
     ]
    },
    {
     "name": "stdout",
     "output_type": "stream",
     "text": [
      "{'A0': 49.26253430481126, 'A1': 7.078890457679492}\n"
     ]
    },
    {
     "name": "stderr",
     "output_type": "stream",
     "text": [
      "100%|██████████| 74/74 [00:21<00:00,  3.42it/s]\n"
     ]
    },
    {
     "name": "stdout",
     "output_type": "stream",
     "text": [
      "{'A0': 15.54126754760771, 'A1': 8.909663971683827}\n"
     ]
    },
    {
     "name": "stderr",
     "output_type": "stream",
     "text": [
      "100%|██████████| 74/74 [00:21<00:00,  3.43it/s]\n"
     ]
    },
    {
     "name": "stdout",
     "output_type": "stream",
     "text": [
      "{'A0': 11.726238548515894, 'A1': 8.201077965849692}\n"
     ]
    },
    {
     "name": "stderr",
     "output_type": "stream",
     "text": [
      "100%|██████████| 74/74 [00:21<00:00,  3.40it/s]\n"
     ]
    },
    {
     "name": "stdout",
     "output_type": "stream",
     "text": [
      "{'A0': 30.872300842719312, 'A1': 8.317907757964804}\n"
     ]
    },
    {
     "name": "stderr",
     "output_type": "stream",
     "text": [
      "100%|██████████| 74/74 [00:21<00:00,  3.38it/s]\n"
     ]
    },
    {
     "name": "stdout",
     "output_type": "stream",
     "text": [
      "{'A0': 10.757279402443743, 'A1': 10.108736817836729}\n"
     ]
    },
    {
     "name": "stderr",
     "output_type": "stream",
     "text": [
      "100%|██████████| 74/74 [00:21<00:00,  3.42it/s]\n"
     ]
    },
    {
     "name": "stdout",
     "output_type": "stream",
     "text": [
      "{'A0': 7.886605691857071, 'A1': 8.696371666928457}\n",
      "Planning for Libertarian CEQ Complete\n"
     ]
    },
    {
     "name": "stderr",
     "output_type": "stream",
     "text": [
      " 30%|██▉       | 22/74 [01:16<03:00,  3.48s/it]\n"
     ]
    },
    {
     "ename": "ValueError",
     "evalue": "a must be greater than 0 unless no samples are taken",
     "output_type": "error",
     "traceback": [
      "\u001b[0;31m---------------------------------------------------------------------------\u001b[0m",
      "\u001b[0;31mValueError\u001b[0m                                Traceback (most recent call last)",
      "\u001b[1;32m/Users/kesong/Documents/git-personal/pomdp-work/MultiAgentQLearning.ipynb Cell 11\u001b[0m in \u001b[0;36m<cell line: 3>\u001b[0;34m()\u001b[0m\n\u001b[1;32m      <a href='vscode-notebook-cell:/Users/kesong/Documents/git-personal/pomdp-work/MultiAgentQLearning.ipynb#ch0000006?line=1'>2</a>\u001b[0m example_trajectories \u001b[39m=\u001b[39m []\n\u001b[1;32m      <a href='vscode-notebook-cell:/Users/kesong/Documents/git-personal/pomdp-work/MultiAgentQLearning.ipynb#ch0000006?line=2'>3</a>\u001b[0m \u001b[39mfor\u001b[39;00m alg \u001b[39min\u001b[39;00m algorithms:\n\u001b[0;32m----> <a href='vscode-notebook-cell:/Users/kesong/Documents/git-personal/pomdp-work/MultiAgentQLearning.ipynb#ch0000006?line=3'>4</a>\u001b[0m     res \u001b[39m=\u001b[39m alg\u001b[39m.\u001b[39;49mplan_on(gg, delta\u001b[39m=\u001b[39;49m\u001b[39m10\u001b[39;49m) \u001b[39m# KC change\u001b[39;00m\n\u001b[1;32m      <a href='vscode-notebook-cell:/Users/kesong/Documents/git-personal/pomdp-work/MultiAgentQLearning.ipynb#ch0000006?line=4'>5</a>\u001b[0m     results\u001b[39m.\u001b[39mappend(res)\n\u001b[1;32m      <a href='vscode-notebook-cell:/Users/kesong/Documents/git-personal/pomdp-work/MultiAgentQLearning.ipynb#ch0000006?line=5'>6</a>\u001b[0m     trajectory \u001b[39m=\u001b[39m res\u001b[39m.\u001b[39mpi\u001b[39m.\u001b[39mrun_on(gg,maxSteps\u001b[39m=\u001b[39m\u001b[39m10\u001b[39m)\n",
      "File \u001b[0;32m~/miniconda3/envs/msdm/lib/python3.9/site-packages/msdm/algorithms/multiagentqlearning.py:214\u001b[0m, in \u001b[0;36mTabularMultiAgentQLearner.plan_on\u001b[0;34m(self, problem, delta)\u001b[0m\n\u001b[1;32m    212\u001b[0m     rewards \u001b[39m=\u001b[39m problem\u001b[39m.\u001b[39mjoint_rewards(state,action,next_state)\n\u001b[1;32m    213\u001b[0m     \u001b[39mfor\u001b[39;00m agent \u001b[39min\u001b[39;00m \u001b[39mself\u001b[39m\u001b[39m.\u001b[39mlearning_agents:\n\u001b[0;32m--> 214\u001b[0m         new_q \u001b[39m=\u001b[39m \u001b[39mself\u001b[39;49m\u001b[39m.\u001b[39;49mupdate(agent,action,res\u001b[39m.\u001b[39;49mQ,rewards,state,next_state,problem)\n\u001b[1;32m    215\u001b[0m         next_vals[agent] \u001b[39m+\u001b[39m\u001b[39m=\u001b[39m prob\u001b[39m*\u001b[39mnew_q\n\u001b[1;32m    216\u001b[0m \u001b[39mfor\u001b[39;00m agent \u001b[39min\u001b[39;00m \u001b[39mself\u001b[39m\u001b[39m.\u001b[39mlearning_agents:\n",
      "File \u001b[0;32m~/miniconda3/envs/msdm/lib/python3.9/site-packages/msdm/algorithms/nashq.py:51\u001b[0m, in \u001b[0;36mNashQLearner.update\u001b[0;34m(self, agent_name, actions, q_values, joint_rewards, curr_state, next_state, problem)\u001b[0m\n\u001b[1;32m     49\u001b[0m     warnings\u001b[39m.\u001b[39msimplefilter(\u001b[39m\"\u001b[39m\u001b[39mignore\u001b[39m\u001b[39m\"\u001b[39m)\n\u001b[1;32m     50\u001b[0m     eqs \u001b[39m=\u001b[39m \u001b[39mlist\u001b[39m(game\u001b[39m.\u001b[39msupport_enumeration())\n\u001b[0;32m---> 51\u001b[0m rand_eq \u001b[39m=\u001b[39m np\u001b[39m.\u001b[39;49mrandom\u001b[39m.\u001b[39;49mchoice(\u001b[39mlen\u001b[39;49m(eqs))\n\u001b[1;32m     52\u001b[0m rand_eq \u001b[39m=\u001b[39m eqs[rand_eq]\n\u001b[1;32m     53\u001b[0m q_val_updates \u001b[39m=\u001b[39m AssignmentMap()\n",
      "File \u001b[0;32mmtrand.pyx:909\u001b[0m, in \u001b[0;36mnumpy.random.mtrand.RandomState.choice\u001b[0;34m()\u001b[0m\n",
      "\u001b[0;31mValueError\u001b[0m: a must be greater than 0 unless no samples are taken"
     ]
    }
   ],
   "source": [
    "results = []\n",
    "example_trajectories = []\n",
    "for alg in algorithms:\n",
    "    res = alg.plan_on(gg, delta=10) # KC change\n",
    "    results.append(res)\n",
    "    trajectory = res.pi.run_on(gg,maxSteps=10)\n",
    "    example_trajectories.append(trajectory)"
   ]
  },
  {
   "cell_type": "code",
   "execution_count": 54,
   "metadata": {},
   "outputs": [],
   "source": [
    "algorithms = algorithms[:-1] # remove nash q learner"
   ]
  },
  {
   "cell_type": "code",
   "execution_count": 55,
   "metadata": {},
   "outputs": [
    {
     "name": "stderr",
     "output_type": "stream",
     "text": [
      "Calculating Projected Q-Values: 100%|██████████| 74/74 [00:00<00:00, 8928.67it/s]\n",
      "Calculating Projected Q-Values: 100%|██████████| 74/74 [00:00<00:00, 8580.63it/s]\n",
      "Calculating Projected Q-Values: 100%|██████████| 74/74 [00:00<00:00, 8693.59it/s]\n",
      "Calculating Projected Q-Values: 100%|██████████| 74/74 [00:00<00:00, 8827.60it/s]\n",
      "Calculating Projected Q-Values: 100%|██████████| 74/74 [00:00<00:00, 8549.90it/s]\n",
      "Calculating Projected Q-Values: 100%|██████████| 74/74 [00:00<00:00, 8209.55it/s]\n"
     ]
    },
    {
     "data": {
      "image/png": "[encoded data removed]",
      "text/plain": [
       "<Figure size 1440x720 with 4 Axes>"
      ]
     },
     "metadata": {
      "needs_background": "light"
     },
     "output_type": "display_data"
    },
    {
     "data": {
      "image/png": "[encoded data removed]",
      "text/plain": [
       "<Figure size 1440x720 with 4 Axes>"
      ]
     },
     "metadata": {
      "needs_background": "light"
     },
     "output_type": "display_data"
    },
    {
     "data": {
      "image/png": "[encoded data removed]",
      "text/plain": [
       "<Figure size 1440x720 with 4 Axes>"
      ]
     },
     "metadata": {
      "needs_background": "light"
     },
     "output_type": "display_data"
    }
   ],
   "source": [
    "for k,alg in enumerate(algorithms): \n",
    "    fig,axes = plt.subplots(2,len(all_agents),figsize=(20,10))\n",
    "    fig.suptitle(alg.alg_name)\n",
    "    for i,agent_name in enumerate(all_agents):\n",
    "        plotter = gg.plot(ax=axes[0][i])\n",
    "        plotter.title(agent_name + \" Values\")\n",
    "        q_matrix = results[k].pi.single_agent_policies[agent_name].q_matrix\n",
    "        occupancy_matrix = results[k].pi.occupancy_matrix\n",
    "        occupancy_matrix.fill(1.0/len(occupancy_matrix[0]))\n",
    "        initial_state = gg.initial_state_dist().sample()\n",
    "        initial_index = gg.state_list.index(initial_state)\n",
    "#         plotter.plot_state_action_map(results[k].pi.positionActionMapping(agent_name,q_matrix,occupancy_matrix,initial_state))\n",
    "        plotter.plot_state_map(results[k].pi.positionMapping(agent_name,q_matrix,occupancy_matrix,initial_state))\n",
    "        plotter = gg.plot(ax=axes[1][i])\n",
    "        plotter.title(agent_name + \" Occupancy\")\n",
    "        plotter.plot_weights(results[k].pi.weightMapping(agent_name,occupancy_matrix,initial_state))"
   ]
  },
  {
   "cell_type": "code",
   "execution_count": 58,
   "metadata": {},
   "outputs": [
    {
     "data": {
      "text/plain": [
       "<matplotlib.legend.Legend at 0x292059bb0>"
      ]
     },
     "execution_count": 58,
     "metadata": {},
     "output_type": "execute_result"
    },
    {
     "data": {
      "image/png": "[encoded data removed]",
      "text/plain": [
       "<Figure size 432x288 with 1 Axes>"
      ]
     },
     "metadata": {
      "needs_background": "light"
     },
     "output_type": "display_data"
    }
   ],
   "source": [
    "for k,alg in enumerate(algorithms): \n",
    "    plt.plot(alg.errors, label=alg.alg_name)\n",
    "plt.legend()"
   ]
  },
  {
   "cell_type": "code",
   "execution_count": null,
   "metadata": {},
   "outputs": [],
   "source": []
  },
  {
   "cell_type": "code",
   "execution_count": null,
   "metadata": {},
   "outputs": [],
   "source": []
  }
 ],
 "metadata": {
  "kernelspec": {
   "display_name": "Python 3.9.13 ('msdm')",
   "language": "python",
   "name": "python3"
  },
  "language_info": {
   "codemirror_mode": {
    "name": "ipython",
    "version": 3
   },
   "file_extension": ".py",
   "mimetype": "text/x-python",
   "name": "python",
   "nbconvert_exporter": "python",
   "pygments_lexer": "ipython3",
   "version": "3.9.13"
  },
  "vscode": {
   "interpreter": {
    "hash": "055b6912cb2c273c547dd7c4c44a429eae4279a9fc812db59b07eaf927461b32"
   }
  }
 },
 "nbformat": 4,
 "nbformat_minor": 4
}
